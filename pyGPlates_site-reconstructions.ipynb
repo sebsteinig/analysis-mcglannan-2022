{
 "cells": [
  {
   "cell_type": "markdown",
   "id": "f3f7adc5",
   "metadata": {
    "colab_type": "text",
    "id": "view-in-github",
    "tags": []
   },
   "source": [
    "<a href=\"https://colab.research.google.com/github/sebsteinig/analysis-mcglannan-2022/blob/main/pyGPlates_site-reconstructions.ipynb\" target=\"_parent\"><img src=\"https://colab.research.google.com/assets/colab-badge.svg\" alt=\"Open In Colab\"/></a>"
   ]
  },
  {
   "cell_type": "markdown",
   "id": "e3e04fe8-9fb9-4e10-8c80-1143682b3ffc",
   "metadata": {},
   "source": [
    "# pyGPlates site reconstructions\n",
    "Reconstruct paleolocations of present-day locations across the Phanerozoic. PyGplates allows to use some of the functionality of the GUI GPlates software within python scripts. This allows scripting to automatically process many different locations and/or time periods. Different rotation models can be used and are easily exchangeable. I currently use the PALEOMAP rotation model that is consistent to the Bristol Scotese simulations by Paul Valdes."
   ]
  },
  {
   "cell_type": "markdown",
   "id": "b4c77a9b-587f-454c-a90a-024912aa4060",
   "metadata": {},
   "source": [
    "## Prelude (only necesseary when running on Google Colab)\n",
    "If running on Google Colab, execute the following cell to download the repo and install pyGPlates on the virtual machine. \n",
    "\n",
    "If running somewhere else, you can execute the whole notebooks and this part will be skipped automatically."
   ]
  },
  {
   "cell_type": "code",
   "execution_count": 1,
   "id": "da9750a6-abd1-47fd-a1a4-875982a67d90",
   "metadata": {},
   "outputs": [],
   "source": [
    "# detect if we are running on colab\n",
    "try:\n",
    "    import google.colab\n",
    "    IN_COLAB = True\n",
    "except:\n",
    "    IN_COLAB = False\n",
    "\n",
    "if IN_COLAB:\n",
    "# configure environment on Colab\n",
    "    import google.colab\n",
    "\n",
    "    # if on Colab, clone the repository to access the data locally\n",
    "    import os\n",
    "    repo = \"analysis-mcglannan-2022\"\n",
    "\n",
    "    # clone repo if it does not already exist\n",
    "    if not os.path.exists(repo):\n",
    "        print('cloning GitHub repository '+repo)\n",
    "        !git clone https://github.com/sebsteinig/{repo}.git\n",
    "  \n",
    "    %cd {repo}\n",
    "    \n",
    "    # install pygplates\n",
    "    !sudo apt install ./bin/pygplates_0.36.0_py36_ubuntu-18.04-amd64.deb\n",
    "    "
   ]
  },
  {
   "cell_type": "markdown",
   "id": "6e991c20-c7f3-4233-b143-44411c613f9d",
   "metadata": {},
   "source": [
    "## User input\n",
    "define variables/lists to quickly change inputs to the notebook"
   ]
  },
  {
   "cell_type": "code",
   "execution_count": 2,
   "id": "44853eaf-bc9c-4f72-8328-a83d9653ffc2",
   "metadata": {},
   "outputs": [],
   "source": [
    "# input csv file (in data directory) with label, modern latitude, modern longitude\n",
    "file_input_sites = 'midcontinent_sites.csv'\n",
    "\n",
    "# list of ages (in Ma) for which we want to reconstruct paleolocations for the input sites\n",
    "ages = ['385', '380', '375', '370', '366', '359', '354', '349', '344', '339', '333', '327']\n",
    "\n",
    "\n"
   ]
  },
  {
   "cell_type": "markdown",
   "id": "599af786-b4f7-450d-b80b-884a0c402067",
   "metadata": {},
   "source": [
    "## import pygplates and other packages"
   ]
  },
  {
   "cell_type": "code",
   "execution_count": 3,
   "id": "f7c604eb-26b6-45c9-aa30-a255373b6044",
   "metadata": {},
   "outputs": [],
   "source": [
    "import os\n",
    "import sys\n",
    "import pandas as pd\n",
    "import csv\n",
    "\n",
    "# add pygplates to python path\n",
    "if IN_COLAB:\n",
    "    sys.path.insert(0, os.path.abspath('/usr/lib')) # ubuntu VM on colab\n",
    "else:\n",
    "    sys.path.insert(0, os.path.abspath('./bin/pygplates_0.36.0_py37_Darwin-x86_64')) # macOS Intel \n",
    "import pygplates\n",
    "\n",
    "\n"
   ]
  },
  {
   "cell_type": "markdown",
   "id": "f8f03dcd-f01a-47e6-bcf5-3b6684cf28fa",
   "metadata": {},
   "source": [
    "## load plate model\n",
    "List of available models at http://portal.gplates.org/portal/rotation_models/.\n",
    "Here we are using the 'PALEOMAP PaleoAtlas for GPlates'by Scotese et al. (https://www.earthbyte.org/paleomap-paleoatlas-for-gplates/)"
   ]
  },
  {
   "cell_type": "code",
   "execution_count": 4,
   "id": "WcMt0hmK_38Q",
   "metadata": {
    "colab": {
     "base_uri": "https://localhost:8080/"
    },
    "id": "WcMt0hmK_38Q",
    "outputId": "1ca62e3a-a818-48f8-aea4-d2827f558cdb"
   },
   "outputs": [],
   "source": [
    "# static polygons are the 'partitioning features'\n",
    "static_polygons = pygplates.FeatureCollection('PALEOMAP_Global_Plate_Model/PALEOMAP_PlatePolygons.gpml')\n",
    "# actual rotation model\n",
    "rotation_model=pygplates.RotationModel('PALEOMAP_Global_Plate_Model/PALEOMAP_PlateModel.rot')"
   ]
  },
  {
   "cell_type": "markdown",
   "id": "9cea8cfa-504b-4fd2-a6fb-fbe02829d363",
   "metadata": {},
   "source": [
    "## Main code\n",
    "3-step process to reconstruct paleolocations:\n",
    "1. combine input points into feature collection\n",
    "2. assign plate ids to features\n",
    "3. reconstruct paleolocations for features"
   ]
  },
  {
   "cell_type": "code",
   "execution_count": 5,
   "id": "bd729772-cf62-44b4-9803-aa4646174491",
   "metadata": {},
   "outputs": [
    {
     "name": "stdout",
     "output_type": "stream",
     "text": [
      "Directory  ./reconstructions/385Ma  Created \n",
      "Paleolocation for Shaffer-Rohling_Core at 385Ma (LAT/LON): -35.7/-46.7\n",
      "Paleolocation for I35_Sycamore_South at 385Ma (LAT/LON): -37.4/-47.0\n",
      "Paleolocation for Kansas_OK_Outcrop at 385Ma (LAT/LON): -37.1/-43.7\n",
      "Paleolocation for Hamsten_Unit_Core at 385Ma (LAT/LON): -34.6/-46.4\n",
      "Paleolocation for Bakken at 385Ma (LAT/LON): -18.7/-42.6\n",
      "Directory  ./reconstructions/380Ma  Created \n",
      "Paleolocation for Shaffer-Rohling_Core at 380Ma (LAT/LON): -33.9/-46.5\n",
      "Paleolocation for I35_Sycamore_South at 380Ma (LAT/LON): -35.7/-46.8\n",
      "Paleolocation for Kansas_OK_Outcrop at 380Ma (LAT/LON): -35.4/-43.6\n",
      "Paleolocation for Hamsten_Unit_Core at 380Ma (LAT/LON): -32.9/-46.3\n",
      "Paleolocation for Bakken at 380Ma (LAT/LON): -17.0/-42.6\n",
      "Directory  ./reconstructions/375Ma  Created \n",
      "Paleolocation for Shaffer-Rohling_Core at 375Ma (LAT/LON): -32.2/-46.4\n",
      "Paleolocation for I35_Sycamore_South at 375Ma (LAT/LON): -34.0/-46.6\n",
      "Paleolocation for Kansas_OK_Outcrop at 375Ma (LAT/LON): -33.6/-43.4\n",
      "Paleolocation for Hamsten_Unit_Core at 375Ma (LAT/LON): -31.1/-46.1\n",
      "Paleolocation for Bakken at 375Ma (LAT/LON): -15.2/-42.6\n",
      "Directory  ./reconstructions/370Ma  Created \n",
      "Paleolocation for Shaffer-Rohling_Core at 370Ma (LAT/LON): -30.5/-46.2\n",
      "Paleolocation for I35_Sycamore_South at 370Ma (LAT/LON): -32.3/-46.5\n",
      "Paleolocation for Kansas_OK_Outcrop at 370Ma (LAT/LON): -31.9/-43.3\n",
      "Paleolocation for Hamsten_Unit_Core at 370Ma (LAT/LON): -29.4/-46.0\n",
      "Paleolocation for Bakken at 370Ma (LAT/LON): -13.5/-42.6\n",
      "Directory  ./reconstructions/366Ma  Created \n",
      "Paleolocation for Shaffer-Rohling_Core at 366Ma (LAT/LON): -29.2/-46.1\n",
      "Paleolocation for I35_Sycamore_South at 366Ma (LAT/LON): -30.9/-46.3\n",
      "Paleolocation for Kansas_OK_Outcrop at 366Ma (LAT/LON): -30.5/-43.2\n",
      "Paleolocation for Hamsten_Unit_Core at 366Ma (LAT/LON): -28.1/-45.9\n",
      "Paleolocation for Bakken at 366Ma (LAT/LON): -12.1/-42.6\n",
      "Directory  ./reconstructions/359Ma  Created \n",
      "Paleolocation for Shaffer-Rohling_Core at 359Ma (LAT/LON): -25.3/-45.4\n",
      "Paleolocation for I35_Sycamore_South at 359Ma (LAT/LON): -27.1/-45.7\n",
      "Paleolocation for Kansas_OK_Outcrop at 359Ma (LAT/LON): -26.7/-42.7\n",
      "Paleolocation for Hamsten_Unit_Core at 359Ma (LAT/LON): -24.2/-45.2\n",
      "Paleolocation for Bakken at 359Ma (LAT/LON): -8.3/-42.0\n",
      "Directory  ./reconstructions/354Ma  Created \n",
      "Paleolocation for Shaffer-Rohling_Core at 354Ma (LAT/LON): -21.8/-44.7\n",
      "Paleolocation for I35_Sycamore_South at 354Ma (LAT/LON): -23.5/-44.9\n",
      "Paleolocation for Kansas_OK_Outcrop at 354Ma (LAT/LON): -23.2/-42.0\n",
      "Paleolocation for Hamsten_Unit_Core at 354Ma (LAT/LON): -20.7/-44.5\n",
      "Paleolocation for Bakken at 354Ma (LAT/LON): -4.8/-41.1\n",
      "Directory  ./reconstructions/349Ma  Created \n",
      "Paleolocation for Shaffer-Rohling_Core at 349Ma (LAT/LON): -18.3/-44.0\n",
      "Paleolocation for I35_Sycamore_South at 349Ma (LAT/LON): -20.0/-44.2\n",
      "Paleolocation for Kansas_OK_Outcrop at 349Ma (LAT/LON): -19.8/-41.4\n",
      "Paleolocation for Hamsten_Unit_Core at 349Ma (LAT/LON): -17.2/-43.7\n",
      "Paleolocation for Bakken at 349Ma (LAT/LON): -1.4/-40.3\n",
      "Directory  ./reconstructions/344Ma  Created \n",
      "Paleolocation for Shaffer-Rohling_Core at 344Ma (LAT/LON): -14.8/-43.2\n",
      "Paleolocation for I35_Sycamore_South at 344Ma (LAT/LON): -16.5/-43.4\n",
      "Paleolocation for Kansas_OK_Outcrop at 344Ma (LAT/LON): -16.3/-40.7\n",
      "Paleolocation for Hamsten_Unit_Core at 344Ma (LAT/LON): -13.7/-42.9\n",
      "Paleolocation for Bakken at 344Ma (LAT/LON): 2.1/-39.3\n",
      "Directory  ./reconstructions/339Ma  Created \n",
      "Paleolocation for Shaffer-Rohling_Core at 339Ma (LAT/LON): -12.7/-41.9\n",
      "Paleolocation for I35_Sycamore_South at 339Ma (LAT/LON): -14.4/-42.1\n",
      "Paleolocation for Kansas_OK_Outcrop at 339Ma (LAT/LON): -14.1/-39.4\n",
      "Paleolocation for Hamsten_Unit_Core at 339Ma (LAT/LON): -11.6/-41.6\n",
      "Paleolocation for Bakken at 339Ma (LAT/LON): 4.3/-38.1\n",
      "Directory  ./reconstructions/333Ma  Created \n",
      "Paleolocation for Shaffer-Rohling_Core at 333Ma (LAT/LON): -11.1/-39.8\n",
      "Paleolocation for I35_Sycamore_South at 333Ma (LAT/LON): -12.9/-40.1\n",
      "Paleolocation for Kansas_OK_Outcrop at 333Ma (LAT/LON): -12.6/-37.3\n",
      "Paleolocation for Hamsten_Unit_Core at 333Ma (LAT/LON): -10.1/-39.6\n",
      "Paleolocation for Bakken at 333Ma (LAT/LON): 5.8/-36.3\n",
      "Directory  ./reconstructions/327Ma  Created \n",
      "Paleolocation for Shaffer-Rohling_Core at 327Ma (LAT/LON): -9.6/-37.9\n",
      "Paleolocation for I35_Sycamore_South at 327Ma (LAT/LON): -11.3/-38.0\n",
      "Paleolocation for Kansas_OK_Outcrop at 327Ma (LAT/LON): -10.9/-35.3\n",
      "Paleolocation for Hamsten_Unit_Core at 327Ma (LAT/LON): -8.5/-37.7\n",
      "Paleolocation for Bakken at 327Ma (LAT/LON): 7.5/-34.6\n"
     ]
    }
   ],
   "source": [
    "# load point coordinates\n",
    "df_sites = pd.read_csv('data/' + file_input_sites,sep=',')\n",
    "\n",
    "for ageCount, age in enumerate(ages):\n",
    "    \n",
    "    # Create output directories & all intermediate directories if don't exists\n",
    "    output_dir = './reconstructions/'+ ages[ageCount] + 'Ma'\n",
    "    if not os.path.exists(output_dir):\n",
    "        os.makedirs(output_dir)\n",
    "        print(\"Directory \" , output_dir ,  \" Created \")\n",
    "    else:    \n",
    "        print(\"Directory \" , output_dir ,  \" already exists\") \n",
    "    \n",
    "    #### step 1: put the points into a feature collection, using Lat,Lon coordinates from dataframe\n",
    "    point_features = []\n",
    "    for index,row in df_sites.iterrows():\n",
    "        point = pygplates.PointOnSphere(float(row.LAT),float(row.LON))\n",
    "        point_feature = pygplates.Feature()\n",
    "        point_feature.set_geometry(point)\n",
    "        point_features.append(point_feature)\n",
    "\n",
    "    ### step 2: assign plate ids to features\n",
    "    # To reconstruct any feature geometries, each feature must have a plate id assigned. If they don't already, \n",
    "    # then the pygplates function 'PlatePartitioner' performs this function (analogous to the 'assign plate ids' \n",
    "    # menu option in GPlates GUI) \n",
    "    partitioned_point_features = pygplates.partition_into_plates(static_polygons, rotation_model, point_features) \n",
    "\n",
    "    ### step 3: reconstruct paleolocations for features\n",
    "    input_file_name = file_input_sites.split('.')[0]\n",
    "\n",
    "    # Results are saved in two different ways:\n",
    "    \n",
    "    # 1. save shape files to disk for later use (e.g. load shapefiles into python script for direct plotting)\n",
    "    pygplates.reconstruct(partitioned_point_features, rotation_model, output_dir + '/' + input_file_name + '_' + ages[ageCount] +'Ma.shp', float(ages[ageCount]))\n",
    "    \n",
    "    # 2. output paleolocations to CSV\n",
    "    reconstructed_feature_geometries = []\n",
    "    pygplates.reconstruct(partitioned_point_features, rotation_model, reconstructed_feature_geometries, float(ages[ageCount]))    \n",
    "    \n",
    "    # create output CSV file\n",
    "    with open(output_dir + '/' + input_file_name + '_' + ages[ageCount] +'Ma.csv', mode='w') as output_file:\n",
    "        output_writer = csv.writer(output_file, delimiter=',')\n",
    "    \n",
    "        # write header\n",
    "        output_writer.writerow(['name', 'modern LAT', 'modern LON', 'reconstructed LAT', 'reconstructed LON', 'age [Ma]'])\n",
    "    \n",
    "        for siteCount, reconstructed_feature_geometry in enumerate(reconstructed_feature_geometries):\n",
    "            paleoLocation = reconstructed_feature_geometry.get_reconstructed_geometry().to_lat_lon()\n",
    "            \n",
    "            # additional output to console for quick check\n",
    "            print('Paleolocation for ' + df_sites.name[siteCount] + ' at ' + ages[ageCount] + 'Ma (LAT/LON): ' + str(round(paleoLocation[0],1)) + '/'+str(round(paleoLocation[1],1)) )\n",
    "        \n",
    "            # write data to CSV\n",
    "            output_writer.writerow([df_sites.name[siteCount], df_sites.LAT[siteCount], df_sites.LON[siteCount], round(paleoLocation[0],2), round(paleoLocation[1],2), ages[ageCount]])  "
   ]
  }
 ],
 "metadata": {
  "colab": {
   "collapsed_sections": [],
   "include_colab_link": true,
   "provenance": []
  },
  "jupytext": {
   "formats": "ipynb,py:light"
  },
  "kernelspec": {
   "display_name": "Python 3 (ipykernel)",
   "language": "python",
   "name": "python3"
  },
  "language_info": {
   "codemirror_mode": {
    "name": "ipython",
    "version": 3
   },
   "file_extension": ".py",
   "mimetype": "text/x-python",
   "name": "python",
   "nbconvert_exporter": "python",
   "pygments_lexer": "ipython3",
   "version": "3.7.0"
  }
 },
 "nbformat": 4,
 "nbformat_minor": 5
}
